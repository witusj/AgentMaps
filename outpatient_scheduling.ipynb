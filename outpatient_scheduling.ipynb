{
  "nbformat": 4,
  "nbformat_minor": 0,
  "metadata": {
    "colab": {
      "name": "outpatient_scheduling.ipynb",
      "provenance": [],
      "collapsed_sections": [],
      "include_colab_link": true
    },
    "kernelspec": {
      "name": "python3",
      "display_name": "Python 3"
    },
    "language_info": {
      "name": "python"
    }
  },
  "cells": [
    {
      "cell_type": "markdown",
      "metadata": {
        "id": "view-in-github",
        "colab_type": "text"
      },
      "source": [
        "<a href=\"https://colab.research.google.com/github/witusj/AgentMaps/blob/master/outpatient_scheduling.ipynb\" target=\"_parent\"><img src=\"https://colab.research.google.com/assets/colab-badge.svg\" alt=\"Open In Colab\"/></a>"
      ]
    },
    {
      "cell_type": "code",
      "metadata": {
        "id": "q__0Cso8SFQK"
      },
      "source": [
        "## Import packages\n",
        "import numpy as np\n",
        "import math\n",
        "import random"
      ],
      "execution_count": 6,
      "outputs": []
    },
    {
      "cell_type": "markdown",
      "metadata": {
        "id": "yFXRf7KGRoui"
      },
      "source": [
        "## Setup problem definition"
      ]
    },
    {
      "cell_type": "code",
      "metadata": {
        "colab": {
          "base_uri": "https://localhost:8080/"
        },
        "id": "yLzG-_SeRfC4",
        "outputId": "038ee65b-a3e3-49b3-cc57-47d06cffebcc"
      },
      "source": [
        "class schedule:\n",
        "  def __init__(self, beta: int, T: int, d: int, N: int):\n",
        "    self.beta = beta # = 1/μ : average service time\n",
        "    self.T = T # number of intervals\n",
        "    self.d = d # length of interval\n",
        "    self.N = N # total number of patients\n",
        "    self.x:list[int] = np.repeat(0, self.T) # schedule with x[t] as number of \n",
        "                                            # patients scheduled at the start of\n",
        "                                            # interval t, t = 1,...,T; initially\n",
        "                                            # set at zero\n",
        "  def make_random_schedule(self, min_x: int, max_x: int, step: int=1):\n",
        "    n = self.N\n",
        "    for i in range(0,self.T, step):\n",
        "      if n >= 0:\n",
        "        r = random.randint(min_x, max_x)\n",
        "        self.x[i] = min(r,n)\n",
        "        n = n - r\n",
        "        print(n, self.x[i])\n",
        "      else:\n",
        "        return\n",
        "  def make_initial_schedule(self):\n",
        "    for patient in range(self.N):\n",
        "      interval = round(patient*self.T / self.N)\n",
        "      print(interval)\n",
        "      if interval > self.T:\n",
        "        interval -= 1\n",
        "      self.x[interval] += 1\n",
        "\n",
        "\n",
        "beta = 20\n",
        "T = 48\n",
        "d = 5\n",
        "N = 10\n",
        "s1 = schedule(beta,T,d,N)\n",
        "step = math.floor(beta/d)\n",
        "s1.make_random_schedule(0,2, step)\n",
        "print(s1.x)\n",
        "print(f'total number of patients in schedule {sum(s1.x)}')\n",
        "s2 = schedule(beta,T,d,N)\n",
        "s2.make_initial_schedule()\n",
        "print(s2.x)\n",
        "print(f'total number of patients in schedule {sum(s2.x)}')"
      ],
      "execution_count": 17,
      "outputs": [
        {
          "output_type": "stream",
          "name": "stdout",
          "text": [
            "8 2\n",
            "6 2\n",
            "5 1\n",
            "5 0\n",
            "3 2\n",
            "1 2\n",
            "1 0\n",
            "-1 1\n",
            "[2 0 0 0 2 0 0 0 1 0 0 0 0 0 0 0 2 0 0 0 2 0 0 0 0 0 0 0 1 0 0 0 0 0 0 0 0\n",
            " 0 0 0 0 0 0 0 0 0 0 0]\n",
            "total number of patients in schedule 10\n",
            "0\n",
            "5\n",
            "10\n",
            "14\n",
            "19\n",
            "24\n",
            "29\n",
            "34\n",
            "38\n",
            "43\n",
            "[1 0 0 0 0 1 0 0 0 0 1 0 0 0 1 0 0 0 0 1 0 0 0 0 1 0 0 0 0 1 0 0 0 0 1 0 0\n",
            " 0 1 0 0 0 0 1 0 0 0 0]\n",
            "total number of patients in schedule 10\n"
          ]
        }
      ]
    },
    {
      "cell_type": "markdown",
      "metadata": {
        "id": "lc8GnVez7ZGl"
      },
      "source": [
        "## Functions"
      ]
    },
    {
      "cell_type": "code",
      "metadata": {
        "colab": {
          "base_uri": "https://localhost:8080/"
        },
        "id": "DHVmKKsR4srX",
        "outputId": "9eb28847-ab21-445d-99ea-b2b52fe62753"
      },
      "source": [
        "def recursive_sum(i):\n",
        "  if i==1:\n",
        "    return 1\n",
        "  return i+recursive_sum(i-1)\n",
        "\n",
        "recursive_sum(5)"
      ],
      "execution_count": null,
      "outputs": [
        {
          "output_type": "execute_result",
          "data": {
            "text/plain": [
              "15"
            ]
          },
          "metadata": {},
          "execution_count": 6
        }
      ]
    },
    {
      "cell_type": "code",
      "metadata": {
        "colab": {
          "base_uri": "https://localhost:8080/"
        },
        "id": "OVEJ8XeO8CZN",
        "outputId": "251114c5-53a6-4ef6-f603-5b50728a7314"
      },
      "source": [
        "def factorial(i):\n",
        "  if i==1:\n",
        "    return 1\n",
        "  return i * factorial(i-1)\n",
        "\n",
        "factorial(5)"
      ],
      "execution_count": null,
      "outputs": [
        {
          "output_type": "execute_result",
          "data": {
            "text/plain": [
              "120"
            ]
          },
          "metadata": {},
          "execution_count": 9
        }
      ]
    },
    {
      "cell_type": "code",
      "metadata": {
        "colab": {
          "base_uri": "https://localhost:8080/"
        },
        "id": "ejsk3dWmJYX3",
        "outputId": "ee1f1f1d-fbef-4aef-c742-abde62254f6c"
      },
      "source": [
        "def service(k, beta):\n",
        "  return pow(beta,k)*math.exp(-beta) / factorial(k)\n",
        "\n",
        "service(10,20)"
      ],
      "execution_count": null,
      "outputs": [
        {
          "output_type": "execute_result",
          "data": {
            "text/plain": [
              "0.005816306518345136"
            ]
          },
          "metadata": {},
          "execution_count": 21
        }
      ]
    },
    {
      "cell_type": "code",
      "metadata": {
        "colab": {
          "base_uri": "https://localhost:8080/"
        },
        "id": "hU4AbuGynDF-",
        "outputId": "a9f51526-558f-472e-f5f5-e6c91033ce09"
      },
      "source": [
        "def binomial_coef(n,k):\n",
        "  return factorial(n)/(factorial(k)*factorial(n-k))\n",
        "\n",
        "print(f'{binomial_coef(4,1)} {binomial_coef(4,2)} {binomial_coef(4,3)}')"
      ],
      "execution_count": null,
      "outputs": [
        {
          "output_type": "stream",
          "name": "stdout",
          "text": [
            "4.0 6.0 4.0\n"
          ]
        }
      ]
    },
    {
      "cell_type": "code",
      "metadata": {
        "id": "6gyJwRgxJeid"
      },
      "source": [
        "def iteration_small(x, results, I, n): # name of function should be meaningful; add types.\n",
        "  x_new = x.copy()\n",
        "  for m in range(1, I-1):\n",
        "    for k in list(range(1, I))[::-1]:\n",
        "      if x_new[k] > 0:\n",
        "        x_new[k] -= 1\n",
        "        x_new[((k + m - 1) % I) + 1] += 1\n",
        "        results_temp = results(x_new, 0) # class for storing results?\n",
        "        if results_temp['objVal'] < results['objVal']: # need to use eval method instead?\n",
        "          return x_new, results_temp\n",
        "        else: \n",
        "          x_new[k] += 1\n",
        "          x_new[((k + m - 1) % I) + 1] -= 1 # store index as variable?\n",
        "  return X, None"
      ],
      "execution_count": 5,
      "outputs": []
    }
  ]
}